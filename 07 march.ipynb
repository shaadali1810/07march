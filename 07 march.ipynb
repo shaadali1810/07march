{
 "cells": [
  {
   "cell_type": "code",
   "execution_count": 1,
   "id": "741a6f6b-37f8-4a67-8ab6-d88ba4452626",
   "metadata": {},
   "outputs": [],
   "source": [
    "#1 mean ,mode and median"
   ]
  },
  {
   "cell_type": "code",
   "execution_count": 2,
   "id": "dca90f91-ae85-4f0d-82b1-78a7e0975e6d",
   "metadata": {},
   "outputs": [],
   "source": [
    "#2\n",
    "# mean - mean is a average of a data \n",
    "#median - median is a mid point of a sorted list\n",
    "#mode - mode is the highest frequency data point in a list\n"
   ]
  },
  {
   "cell_type": "code",
   "execution_count": 3,
   "id": "0d0065f6-fffa-4012-a547-932e3222745d",
   "metadata": {},
   "outputs": [],
   "source": [
    "#3\n",
    "data = [178,177,176,177,178.2,178,175,179,180,175,178.9,176.2,177,172.5,178,176.5]"
   ]
  },
  {
   "cell_type": "code",
   "execution_count": 4,
   "id": "307a79ef-ae31-4480-a756-d375def5cc3c",
   "metadata": {},
   "outputs": [],
   "source": [
    "import numpy as np"
   ]
  },
  {
   "cell_type": "code",
   "execution_count": 5,
   "id": "0b135190-47c6-41a9-8b24-0e93304fa283",
   "metadata": {},
   "outputs": [
    {
     "data": {
      "text/plain": [
       "177.01875"
      ]
     },
     "execution_count": 5,
     "metadata": {},
     "output_type": "execute_result"
    }
   ],
   "source": [
    "np.mean(data)"
   ]
  },
  {
   "cell_type": "code",
   "execution_count": 12,
   "id": "54a35048-9060-4ae4-9b76-d5eff367a289",
   "metadata": {},
   "outputs": [
    {
     "data": {
      "text/plain": [
       "177.0"
      ]
     },
     "execution_count": 12,
     "metadata": {},
     "output_type": "execute_result"
    }
   ],
   "source": [
    "np.median(data)"
   ]
  },
  {
   "cell_type": "code",
   "execution_count": 14,
   "id": "bc6cb5d1-9924-4fb8-80cd-b53d56a85ee1",
   "metadata": {},
   "outputs": [],
   "source": [
    "import statistics as st"
   ]
  },
  {
   "cell_type": "code",
   "execution_count": 16,
   "id": "2de583d0-661a-451c-b14a-49cb92bc7f67",
   "metadata": {},
   "outputs": [
    {
     "data": {
      "text/plain": [
       "178"
      ]
     },
     "execution_count": 16,
     "metadata": {},
     "output_type": "execute_result"
    }
   ],
   "source": [
    "st.mode(data)"
   ]
  },
  {
   "cell_type": "code",
   "execution_count": 18,
   "id": "e47958f8-76cf-4dce-ab9f-f7e6eea9cd37",
   "metadata": {},
   "outputs": [
    {
     "data": {
      "text/plain": [
       "1.7885814036548633"
      ]
     },
     "execution_count": 18,
     "metadata": {},
     "output_type": "execute_result"
    }
   ],
   "source": [
    "#4\n",
    "np.std(data)"
   ]
  },
  {
   "cell_type": "code",
   "execution_count": 19,
   "id": "60304b94-5833-40d1-9954-af0ce7337071",
   "metadata": {},
   "outputs": [
    {
     "data": {
      "text/plain": [
       "3.199023437500001"
      ]
     },
     "execution_count": 19,
     "metadata": {},
     "output_type": "execute_result"
    }
   ],
   "source": [
    "#5\n",
    "np.var(data)"
   ]
  },
  {
   "cell_type": "code",
   "execution_count": 20,
   "id": "fb91c81c-7991-4b87-bf1d-479c05febc58",
   "metadata": {},
   "outputs": [
    {
     "data": {
      "text/plain": [
       "1.7885814036548633"
      ]
     },
     "execution_count": 20,
     "metadata": {},
     "output_type": "execute_result"
    }
   ],
   "source": [
    "np.std(data)"
   ]
  },
  {
   "cell_type": "code",
   "execution_count": 23,
   "id": "f97f1132-d285-4bb3-9a4a-eb687334f94d",
   "metadata": {},
   "outputs": [
    {
     "data": {
      "text/plain": [
       "3.1990234375000006"
      ]
     },
     "execution_count": 23,
     "metadata": {},
     "output_type": "execute_result"
    }
   ],
   "source": [
    "st.pvariance(data)"
   ]
  },
  {
   "cell_type": "code",
   "execution_count": 24,
   "id": "f14b3da7-bb09-4a36-9599-e552c3efb6c8",
   "metadata": {},
   "outputs": [],
   "source": [
    "#6 vein diagram is a diagram which show the  element of set "
   ]
  },
  {
   "cell_type": "code",
   "execution_count": 25,
   "id": "42193a7d-e05a-4fb7-81ea-e6d2c9adf32a",
   "metadata": {},
   "outputs": [],
   "source": [
    "#7(i) 2,6\n",
    "#(ii)   0,2,3,4,5,6,9,10"
   ]
  },
  {
   "cell_type": "code",
   "execution_count": 26,
   "id": "85eae7e3-a121-4d2d-8994-906be6f25560",
   "metadata": {},
   "outputs": [],
   "source": [
    "#8 Skewness is a measure of the distortion of symmetrical distribution or asymmetry in a data set. It is demonstrated on a bell curve when data points are not distributed symmetrically to the left and right sides of the median on a bell curve. If the bell curve is shifted to the left or right, it is said to be skewed.\n"
   ]
  },
  {
   "cell_type": "code",
   "execution_count": 27,
   "id": "0e69029a-8a50-4445-a23f-11eb85586fa2",
   "metadata": {},
   "outputs": [],
   "source": [
    "#9 mean is greater value and its present left side in right skewness respect to mean"
   ]
  },
  {
   "cell_type": "code",
   "execution_count": 28,
   "id": "534905e5-e5a3-494f-b1ef-8ee5f440e28c",
   "metadata": {},
   "outputs": [],
   "source": [
    "#10 Covariance and correlation are mathematical concepts used in probability theory and statistics to analyze the relationship between two numerical variables.2 Covariance shows the direction of the linear relationship between two variables, while correlation indicates both the direction and strength of the linear relationship between variables.1 Covariance tells whether both variables vary in the same direction (positive covariance) or in the opposite direction (negative covariance). There is no meaning of covariance numerical value, only sign is useful. Correlation explains the change in one variable leads to how much proportion change in the second variable.\n"
   ]
  },
  {
   "cell_type": "code",
   "execution_count": 31,
   "id": "d7b7c474-f5c8-43f1-92db-aa1ee1011738",
   "metadata": {},
   "outputs": [],
   "source": [
    "import seaborn as sns"
   ]
  },
  {
   "cell_type": "code",
   "execution_count": 32,
   "id": "3a3a2246-d4d5-4e60-91fe-ad5b306da769",
   "metadata": {},
   "outputs": [],
   "source": [
    "df = sns.load_dataset('tips')"
   ]
  },
  {
   "cell_type": "code",
   "execution_count": 35,
   "id": "d3854543-2d00-446d-b602-8ae5c5189112",
   "metadata": {},
   "outputs": [
    {
     "name": "stderr",
     "output_type": "stream",
     "text": [
      "/tmp/ipykernel_363/1545644723.py:1: FutureWarning: The default value of numeric_only in DataFrame.cov is deprecated. In a future version, it will default to False. Select only valid columns or specify the value of numeric_only to silence this warning.\n",
      "  df.cov()\n"
     ]
    },
    {
     "data": {
      "text/html": [
       "<div>\n",
       "<style scoped>\n",
       "    .dataframe tbody tr th:only-of-type {\n",
       "        vertical-align: middle;\n",
       "    }\n",
       "\n",
       "    .dataframe tbody tr th {\n",
       "        vertical-align: top;\n",
       "    }\n",
       "\n",
       "    .dataframe thead th {\n",
       "        text-align: right;\n",
       "    }\n",
       "</style>\n",
       "<table border=\"1\" class=\"dataframe\">\n",
       "  <thead>\n",
       "    <tr style=\"text-align: right;\">\n",
       "      <th></th>\n",
       "      <th>total_bill</th>\n",
       "      <th>tip</th>\n",
       "      <th>size</th>\n",
       "    </tr>\n",
       "  </thead>\n",
       "  <tbody>\n",
       "    <tr>\n",
       "      <th>total_bill</th>\n",
       "      <td>79.252939</td>\n",
       "      <td>8.323502</td>\n",
       "      <td>5.065983</td>\n",
       "    </tr>\n",
       "    <tr>\n",
       "      <th>tip</th>\n",
       "      <td>8.323502</td>\n",
       "      <td>1.914455</td>\n",
       "      <td>0.643906</td>\n",
       "    </tr>\n",
       "    <tr>\n",
       "      <th>size</th>\n",
       "      <td>5.065983</td>\n",
       "      <td>0.643906</td>\n",
       "      <td>0.904591</td>\n",
       "    </tr>\n",
       "  </tbody>\n",
       "</table>\n",
       "</div>"
      ],
      "text/plain": [
       "            total_bill       tip      size\n",
       "total_bill   79.252939  8.323502  5.065983\n",
       "tip           8.323502  1.914455  0.643906\n",
       "size          5.065983  0.643906  0.904591"
      ]
     },
     "execution_count": 35,
     "metadata": {},
     "output_type": "execute_result"
    }
   ],
   "source": [
    "df.cov()"
   ]
  },
  {
   "cell_type": "code",
   "execution_count": 36,
   "id": "4501a81c-5fb6-4524-acf2-b7315f91593b",
   "metadata": {},
   "outputs": [
    {
     "name": "stderr",
     "output_type": "stream",
     "text": [
      "/tmp/ipykernel_363/1134722465.py:1: FutureWarning: The default value of numeric_only in DataFrame.corr is deprecated. In a future version, it will default to False. Select only valid columns or specify the value of numeric_only to silence this warning.\n",
      "  df.corr()\n"
     ]
    },
    {
     "data": {
      "text/html": [
       "<div>\n",
       "<style scoped>\n",
       "    .dataframe tbody tr th:only-of-type {\n",
       "        vertical-align: middle;\n",
       "    }\n",
       "\n",
       "    .dataframe tbody tr th {\n",
       "        vertical-align: top;\n",
       "    }\n",
       "\n",
       "    .dataframe thead th {\n",
       "        text-align: right;\n",
       "    }\n",
       "</style>\n",
       "<table border=\"1\" class=\"dataframe\">\n",
       "  <thead>\n",
       "    <tr style=\"text-align: right;\">\n",
       "      <th></th>\n",
       "      <th>total_bill</th>\n",
       "      <th>tip</th>\n",
       "      <th>size</th>\n",
       "    </tr>\n",
       "  </thead>\n",
       "  <tbody>\n",
       "    <tr>\n",
       "      <th>total_bill</th>\n",
       "      <td>1.000000</td>\n",
       "      <td>0.675734</td>\n",
       "      <td>0.598315</td>\n",
       "    </tr>\n",
       "    <tr>\n",
       "      <th>tip</th>\n",
       "      <td>0.675734</td>\n",
       "      <td>1.000000</td>\n",
       "      <td>0.489299</td>\n",
       "    </tr>\n",
       "    <tr>\n",
       "      <th>size</th>\n",
       "      <td>0.598315</td>\n",
       "      <td>0.489299</td>\n",
       "      <td>1.000000</td>\n",
       "    </tr>\n",
       "  </tbody>\n",
       "</table>\n",
       "</div>"
      ],
      "text/plain": [
       "            total_bill       tip      size\n",
       "total_bill    1.000000  0.675734  0.598315\n",
       "tip           0.675734  1.000000  0.489299\n",
       "size          0.598315  0.489299  1.000000"
      ]
     },
     "execution_count": 36,
     "metadata": {},
     "output_type": "execute_result"
    }
   ],
   "source": [
    "df.corr()"
   ]
  },
  {
   "cell_type": "code",
   "execution_count": 39,
   "id": "5b0ee10c-67db-45b9-b805-9f73c56328bc",
   "metadata": {},
   "outputs": [],
   "source": [
    "#11 x = (xi)n "
   ]
  },
  {
   "cell_type": "code",
   "execution_count": 40,
   "id": "d199c85a-095f-4ea7-b468-e1398809c71c",
   "metadata": {},
   "outputs": [],
   "source": [
    "#12 The central tendency of a dataset can be found using the three main measures of central tendency: mean, median, and mode.12 The mean represents the average value of the dataset and can be calculated as the sum of all the values in the dataset divided by the number of values.2 Other measures of mean include weighted mean, geometric mean (GM), and harmonic mean (HM). The three measures of central tendency are closely connected by an empirical relationship.0 When data is normally distributed, the mean, median, and mode should be identical and are all effective in showing the most typical value of a data set. It's important to look at the dispersion of a data set when interpreting the measures of central tendency."
   ]
  },
  {
   "cell_type": "code",
   "execution_count": null,
   "id": "2d904052-a975-4e7e-86b2-ba03066bc4c5",
   "metadata": {},
   "outputs": [],
   "source": [
    "#13 Covariance is a statistical concept that describes a systematic relationship between two random variables, where a change in one variable reflects a change in the other variable.23 The value of covariance can range from - to +, with a negative value indicating a negative relationship and a positive value indicating a positive relationship.2 Correlation, on the other hand, measures the direction and strength of the relationship between two variables, i.e., how strongly these two variables are related to each other.1 While correlation coefficients lie between -1 and +1, covariance can take any value between - and +. The change in scale of the variables affects the value of covariance, but the value of correlation is not influenced by the change in scale of the values."
   ]
  }
 ],
 "metadata": {
  "kernelspec": {
   "display_name": "Python 3 (ipykernel)",
   "language": "python",
   "name": "python3"
  },
  "language_info": {
   "codemirror_mode": {
    "name": "ipython",
    "version": 3
   },
   "file_extension": ".py",
   "mimetype": "text/x-python",
   "name": "python",
   "nbconvert_exporter": "python",
   "pygments_lexer": "ipython3",
   "version": "3.10.8"
  }
 },
 "nbformat": 4,
 "nbformat_minor": 5
}
